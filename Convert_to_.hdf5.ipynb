{
 "cells": [
  {
   "cell_type": "code",
   "execution_count": null,
   "metadata": {},
   "outputs": [],
   "source": [
    "import glob\n",
    "import numpy as np\n",
    "import pandas as pd\n",
    "import h5py\n",
    "import matplotlib.pyplot as plt\n",
    "import matplotlib\n",
    "import random\n",
    "import datetime\n",
    "import time"
   ]
  },
  {
   "cell_type": "markdown",
   "metadata": {},
   "source": [
    "Load data from each cage and combine it into a pandas dataframe. This must be done manually by uncommenting each cage number one by one. (I know, it's stupid, but its only needed once)"
   ]
  },
  {
   "cell_type": "code",
   "execution_count": null,
   "metadata": {},
   "outputs": [],
   "source": [
    "folders = ['15.6'] #,'15.1', '15.2', '15.3', '15.4', '15.5', '15.6']\n",
    "cages = []\n",
    "path = \"/path/to/data/\"\n",
    "for folder in folders:#\n",
    "    print(\"Looking at: \" + path+folder)\n",
    "    cages.append((sorted(glob.glob(path+folder+'/*biomass.csv'))))\n",
    "\n",
    "print(len(cages))\n",
    "cage_dfs = []\n",
    "for i, cage in enumerate(cages):\n",
    "    if i > 3:\n",
    "        break\n",
    "    \n",
    "    li = []\n",
    "    for file in cage:\n",
    "        df = pd.read_csv(file, index_col=None, header=None)#,error_bad_lines=False)\n",
    "        print(df.shape)\n",
    "        li.append(df)\n",
    "\n",
    "    cage_dfs.append(pd.concat(li, axis=0, ignore_index=True))\n",
    "dataframe = cage_dfs[0]\n"
   ]
  },
  {
   "cell_type": "markdown",
   "metadata": {},
   "source": [
    "Use dates in dataframe to set disease onset date"
   ]
  },
  {
   "cell_type": "code",
   "execution_count": null,
   "metadata": {},
   "outputs": [],
   "source": [
    "targets = np.zeros((dataframe.shape[0], 1))\n",
    "sick_time = datetime.datetime(*time.strptime('2019-03-15', '%Y-%m-%d')[:6])\n",
    "print(targets.shape)\n",
    "print(dataframe.shape)\n"
   ]
  },
  {
   "cell_type": "code",
   "execution_count": null,
   "metadata": {},
   "outputs": [],
   "source": [
    "for i in range(dataframe.shape[0]):\n",
    "    if dataframe[3][i] != 'date_time':\n",
    "        if datetime.datetime(*time.strptime(dataframe[3][i][0:10], '%Y-%m-%d')[:6]) >= sick_time:\n",
    "            targets[i] = 1.0"
   ]
  },
  {
   "cell_type": "markdown",
   "metadata": {},
   "source": [
    "Remove date and surpurflous information to only be left with a clean data dataframe"
   ]
  },
  {
   "cell_type": "code",
   "execution_count": null,
   "metadata": {},
   "outputs": [],
   "source": [
    "dataframe = dataframe.drop([0, 1, 2, 3], axis=1)"
   ]
  },
  {
   "cell_type": "markdown",
   "metadata": {},
   "source": [
    "Only a small portion of the echo data is actually from below the water surface. Remove all air from data as well as noisy lower part."
   ]
  },
  {
   "cell_type": "code",
   "execution_count": null,
   "metadata": {},
   "outputs": [],
   "source": [
    "np_data = dataframe.values\n",
    "np_data = np_data[:, 40:232]\n",
    "np_data.shape"
   ]
  },
  {
   "cell_type": "markdown",
   "metadata": {},
   "source": [
    "Plot data if you wish"
   ]
  },
  {
   "cell_type": "code",
   "execution_count": null,
   "metadata": {},
   "outputs": [],
   "source": [
    "length = 1000\n",
    "def plot_data(dataset, max_value=0):\n",
    "    num_iter = dataset.shape[0]//length\n",
    "    print(num_iter)\n",
    "    prev = 0\n",
    "    for i in range(10):\n",
    "        print((i+1)*length)\n",
    "        show = dataset[prev:(i+1)*length]\n",
    "        #print(show.shape)\n",
    "        #show = show[:,14:246]\n",
    "        #print(show.shape)\n",
    "        base = 20\n",
    "        show = np.log(show) / np.log(base)  # = [3, 4]\n",
    "        show[np.isneginf(show)] = 0\n",
    "        prev = (i+1)*length\n",
    "        show = (show-np.max(show))\n",
    "        show = np.rot90(show, 1)\n",
    "        font = {'family' : 'normal',\n",
    "        'size'   : 40}\n",
    "\n",
    "        matplotlib.rc('font', **font)\n",
    "        #plt.axis('off')\n",
    "        matplotlib.rcParams['figure.figsize'] = [35, 15]\n",
    "        plt.imshow(show, cmap=\"gnuplot2\")\n",
    "        plt.title(\"Echogram from feeding zone\")\n",
    "        #plt.colorbar()\n",
    "        plt.show()\n"
   ]
  },
  {
   "cell_type": "code",
   "execution_count": null,
   "metadata": {},
   "outputs": [],
   "source": [
    "plot_data(np_data)"
   ]
  },
  {
   "cell_type": "markdown",
   "metadata": {},
   "source": [
    "Save your new dataframe into a .hdf5 data file."
   ]
  },
  {
   "cell_type": "code",
   "execution_count": null,
   "metadata": {},
   "outputs": [],
   "source": [
    "def save_data(dataset, path, labels=\"\"):\n",
    "    save_path = path+folders[0]+\"_whole_cage_all_dates\"+labels+\".hdf5\"\n",
    "    print(save_path)\n",
    "    with h5py.File(save_path, \"w\") as f:\n",
    "            dset = f.create_dataset(\"mydataset\", data=dataset)"
   ]
  },
  {
   "cell_type": "code",
   "execution_count": null,
   "metadata": {},
   "outputs": [],
   "source": [
    "save_data(np_data, '/path/to/save/data/', '_data')\n",
    "save_data(targets, '/path/to/save/targets/', '_targets')"
   ]
  }
 ],
 "metadata": {
  "kernelspec": {
   "display_name": "Python 3",
   "language": "python",
   "name": "python3"
  },
  "language_info": {
   "codemirror_mode": {
    "name": "ipython",
    "version": 3
   },
   "file_extension": ".py",
   "mimetype": "text/x-python",
   "name": "python",
   "nbconvert_exporter": "python",
   "pygments_lexer": "ipython3",
   "version": "3.7.7"
  }
 },
 "nbformat": 4,
 "nbformat_minor": 2
}
